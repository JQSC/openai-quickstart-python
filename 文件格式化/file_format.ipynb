{
 "cells": [
  {
   "cell_type": "code",
   "execution_count": 3,
   "metadata": {},
   "outputs": [
    {
     "data": {
      "application/vnd.jupyter.widget-view+json": {
       "model_id": "4120c026558042a6aaeb6cc056b9721a",
       "version_major": 2,
       "version_minor": 0
      },
      "text/plain": [
       "Text(value='', description='文件:', placeholder='输入文件地址')"
      ]
     },
     "metadata": {},
     "output_type": "display_data"
    }
   ],
   "source": [
    "import ipywidgets as widgets\n",
    "\n",
    "# uploader = widgets.FileUpload(\n",
    "#     accept='',  # Accepted file extension e.g. '.txt', '.pdf', 'image/*', 'image/*,.pdf'\n",
    "#     multiple=False  # True to accept multiple files upload else False\n",
    "# )\n",
    "text = widgets.Text(\n",
    "    value='',\n",
    "    placeholder='输入文件地址',\n",
    "    description='文件:',\n",
    "    disabled=False   \n",
    ")\n",
    "display(text)\n",
    "# widgets.GridBox([uploader, text], layout=widgets.Layout(grid_template_columns=\"repeat(2, 150px)\"))\n"
   ]
  },
  {
   "cell_type": "code",
   "execution_count": null,
   "metadata": {},
   "outputs": [],
   "source": [
    "from pathlib import Path\n",
    "\n",
    "# 读取文件\n",
    "def readFileSync(file_path: Path):\n",
    "  return file_path.read_text()\n",
    "\n",
    "# 转换react文件\n",
    "def transformReact(file_path: Path):\n",
    "  file_content = readFileSync(file_path)\n",
    "  if not file_content:\n",
    "    return\n",
    "  else:\n",
    "    file_content.replace()\n",
    "\n",
    "\n",
    "# 转换less文件\n",
    "def transformLess(file_path: Path):\n",
    "  file_content = readFileSync(file_path)\n",
    "             \n",
    "# 处理文件  \n",
    "def processFile(file_path: Path):\n",
    "    file_path = Path(file_path)\n",
    "    if file_path.suffix == '.tsx':\n",
    "       transformReact(file_path)\n",
    "    elif file_path.suffix == '.less':\n",
    "       transformLess(file_path)\n",
    "       \n",
    "# 主函数\n",
    "def main(file_path):\n",
    "  if not file_path:\n",
    "    print('Please provide a file path.')\n",
    "    return\n",
    "  processFile(Path(file_path))"
   ]
  },
  {
   "cell_type": "code",
   "execution_count": null,
   "metadata": {},
   "outputs": [
    {
     "name": "stdout",
     "output_type": "stream",
     "text": [
      "123\n"
     ]
    }
   ],
   "source": [
    "print(123)"
   ]
  }
 ],
 "metadata": {
  "kernelspec": {
   "display_name": ".venv",
   "language": "python",
   "name": "python3"
  },
  "language_info": {
   "codemirror_mode": {
    "name": "ipython",
    "version": 3
   },
   "file_extension": ".py",
   "mimetype": "text/x-python",
   "name": "python",
   "nbconvert_exporter": "python",
   "pygments_lexer": "ipython3",
   "version": "3.9.19"
  }
 },
 "nbformat": 4,
 "nbformat_minor": 2
}
