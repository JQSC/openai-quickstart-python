{
 "cells": [
  {
   "cell_type": "code",
   "execution_count": 39,
   "metadata": {},
   "outputs": [
    {
     "data": {
      "application/vnd.jupyter.widget-view+json": {
       "model_id": "b154824ec63145f4990c0d7dae46b979",
       "version_major": 2,
       "version_minor": 0
      },
      "text/plain": [
       "Text(value='h:\\\\2024练习\\\\openai-quickstart-python\\\\文件格式化', placeholder='输入文件地址')"
      ]
     },
     "metadata": {},
     "output_type": "display_data"
    }
   ],
   "source": [
    "import ipywidgets as widgets\n",
    "from pathlib import Path\n",
    "\n",
    "\n",
    "# uploader = widgets.FileUpload(\n",
    "#     accept='',  # Accepted file extension e.g. '.txt', '.pdf', 'image/*', 'image/*,.pdf'\n",
    "#     multiple=False  # True to accept multiple files upload else False\n",
    "# )\n",
    "\n",
    "# label = widgets.Label(value=f\"{Path().cwd()}\")\n",
    "\n",
    "input_file_path = widgets.Text(\n",
    "    value=f\"{Path().cwd()}\",\n",
    "    placeholder='输入文件地址',\n",
    "    # description='文件:',\n",
    "    disabled=False   \n",
    ")\n",
    "display(input_file_path)\n",
    "# text = widgets.Text(\n",
    "#     value='',\n",
    "#     placeholder='输入文件地址',\n",
    "#     # description='文件:',\n",
    "#     disabled=False   \n",
    "# )\n",
    "# display(label)\n",
    "# display(text)\n",
    "\n",
    "# widgets.GridBox([label, text], layout=widgets.Layout(grid_template_columns=\"300px 100px\"))\n"
   ]
  },
  {
   "cell_type": "code",
   "execution_count": 41,
   "metadata": {},
   "outputs": [
    {
     "name": "stdout",
     "output_type": "stream",
     "text": [
      "h:\\2024练习\\openai-quickstart-python\\文件格式化\n"
     ]
    }
   ],
   "source": [
    "from pathlib import Path\n",
    "import re\n",
    "\n",
    "\n",
    "# js 替换\n",
    "# 将类名转换为小驼峰形式\n",
    "def to_upperCase(match):\n",
    "    return match.group(1).capitalize()\n",
    "\n",
    "\n",
    "def camelCaseClassName(str):\n",
    "    return re.sub(r\"[-_]([a-z1-9]*)\", to_upperCase, str)\n",
    "\n",
    "\n",
    "def replace_class_name(match):\n",
    "    class_name = match.group(1)\n",
    "    return f\"className={{styles.{camelCaseClassName(class_name)}}}\"\n",
    "\n",
    "\n",
    "def replace_import(match):\n",
    "    return 'import styles from \"./index.module.less\"'\n",
    "\n",
    "\n",
    "# 转换 less 样式文件\n",
    "def replace_less(match):\n",
    "    groups = match.groups()\n",
    "\n",
    "    return groups[0] + camelCaseClassName(groups[1])\n",
    "\n",
    "\n",
    "js_patterns_and_replacements = {\n",
    "    r'className=[\\\"\\']([^\"\\']*)[\\\"\\']': replace_class_name,\n",
    "    r\"import [\\\"\\']\\./index\\.less[\\\"\\']\": replace_import,\n",
    "}\n",
    "\n",
    "less_patterns_and_replacements = {r\"([.#])([\\w-]+)\": replace_less}\n",
    "\n",
    "\n",
    "# 读取文件\n",
    "def readFileSync(file_path: Path):\n",
    "    return file_path.read_text()\n",
    "\n",
    "\n",
    "# 转换react文件\n",
    "def transformReact(file_path: Path):\n",
    "    file_content = readFileSync(file_path)\n",
    "    if not file_content:\n",
    "        return\n",
    "\n",
    "    transformed_content = file_content\n",
    "    for pattern, replacement in js_patterns_and_replacements.items():\n",
    "        transformed_content = re.sub(pattern, replacement, transformed_content)\n",
    "\n",
    "    print(transformed_content)\n",
    "\n",
    "\n",
    "# 转换less文件\n",
    "def transformLess(file_path: Path):\n",
    "    file_content = readFileSync(file_path)\n",
    "    if not file_content:\n",
    "        return\n",
    "\n",
    "    transformed_content = file_content\n",
    "    for pattern, replacement in less_patterns_and_replacements.items():\n",
    "        transformed_content = re.sub(pattern, replacement, transformed_content)\n",
    "\n",
    "    print(transformed_content)\n",
    "\n",
    "\n",
    "# 处理文件\n",
    "def processFile(file_path: Path):\n",
    "    if file_path.suffix == \".tsx\":\n",
    "        transformReact(file_path.resolve())\n",
    "    elif file_path.suffix == \".less\":\n",
    "        transformLess(file_path)\n",
    "\n",
    "\n",
    "# 主函数\n",
    "def main(file_path):\n",
    "    if not file_path:\n",
    "        print(\"Please provide a file path.\")\n",
    "        return\n",
    "    processFile(Path(file_path))\n",
    "\n",
    "\n",
    "# file_path = Path().cwd() / \"文件格式化/test/index.less\"\n",
    "\n",
    "# input_value = Path(label.value).joinpath(text.value)\n",
    "\n",
    "print(input_file_path.value)\n",
    "# main(file_path)\n"
   ]
  },
  {
   "cell_type": "code",
   "execution_count": null,
   "metadata": {},
   "outputs": [
    {
     "data": {
      "application/vnd.jupyter.widget-view+json": {
       "model_id": "be7a626c23c94671ab8a0b3b88205778",
       "version_major": 2,
       "version_minor": 0
      },
      "text/plain": [
       "FileUpload(value=(), description='Upload')"
      ]
     },
     "metadata": {},
     "output_type": "display_data"
    }
   ],
   "source": [
    "import ipywidgets as widgets\n",
    "from IPython.display import HTML\n",
    "\n",
    "\n",
    "def handle_file_upload(change):\n",
    "    print(123,change)\n",
    "    return \n",
    "    # uploaded_file = change['new']\n",
    "    # with open(uploaded_file['metadata']['name'], 'wb') as f:\n",
    "    #     f.write(uploaded_file['content'])\n",
    "    # print(f'File uploaded successfully: {uploaded_file[\"metadata\"][\"name\"]}')\n",
    "\n",
    "file_upload = widgets.FileUpload(description='Upload')\n",
    "file_upload.observe(handle_file_upload, names='value')\n",
    "\n",
    "display(file_upload)\n",
    "# vid_list = glob.glob1('examples/face/', '*.mp4')\n",
    "# default_vid_name = widgets.Dropdown(options=vid_list, value='1.mp4')\n",
    "# display(default_vid_name)\n"
   ]
  },
  {
   "cell_type": "code",
   "execution_count": null,
   "metadata": {},
   "outputs": [],
   "source": [
    "import ipywidgets as widgets\n",
    "from IPython.display import display\n",
    "\n",
    "w = widgets.IntSlider()\n",
    "display(w)"
   ]
  },
  {
   "cell_type": "code",
   "execution_count": null,
   "metadata": {},
   "outputs": [
    {
     "name": "stdout",
     "output_type": "stream",
     "text": [
      "123\n"
     ]
    }
   ],
   "source": [
    "print(123)"
   ]
  }
 ],
 "metadata": {
  "kernelspec": {
   "display_name": ".venv",
   "language": "python",
   "name": "python3"
  },
  "language_info": {
   "codemirror_mode": {
    "name": "ipython",
    "version": 3
   },
   "file_extension": ".py",
   "mimetype": "text/x-python",
   "name": "python",
   "nbconvert_exporter": "python",
   "pygments_lexer": "ipython3",
   "version": "3.9.19"
  }
 },
 "nbformat": 4,
 "nbformat_minor": 2
}
