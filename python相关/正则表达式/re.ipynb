{
 "cells": [
  {
   "cell_type": "markdown",
   "metadata": {},
   "source": [
    "# re\n",
    "正则表达式操作。\n",
    "在执行替换时，替换字串的类型也必须与所用的模式和搜索字串的类型一致。不能将 Unicode 字符串与字节串模式进行匹配，反之亦然。\n",
    "正则使用反斜杠\\,与 js 相反，js 使用正斜杠/。\n",
    "避免匹配项中存在\\这样冲突的转移字符，建议使用 r前缀包裹字符串，就不用考虑转义问题了。使用方式与 js 中类似。\n"
   ]
  },
  {
   "cell_type": "markdown",
   "metadata": {},
   "source": [
    "### re.compile(pattern, flags=0)\n",
    "将正则表达式的样式编译为一个 正则表达式对象 （正则对象），\n",
    "可以用于匹配，通过这个对象的方法 match(), search() 以及其他。\n",
    "\n",
    "如果需要多次使用这个正则表达式的话，使用 re.compile() 和保存这个正则对象以便复用，可以让程序更加高效。"
   ]
  },
  {
   "cell_type": "code",
   "execution_count": 8,
   "metadata": {},
   "outputs": [
    {
     "name": "stdout",
     "output_type": "stream",
     "text": [
      "('010', '12345')\n"
     ]
    }
   ],
   "source": [
    "import re\n",
    "\n",
    "pattern = r'^(\\d{3})-(\\d{3,8})$'\n",
    "string = '010-12345'\n",
    "\n",
    "re_telephone = re.compile(pattern)\n",
    "re_telephone.match(string).groups()\n",
    "\n",
    "# 等价使用match\n",
    "result = re.match(pattern, string)\n",
    "print(result.groups())"
   ]
  }
 ],
 "metadata": {
  "kernelspec": {
   "display_name": ".venv",
   "language": "python",
   "name": "python3"
  },
  "language_info": {
   "codemirror_mode": {
    "name": "ipython",
    "version": 3
   },
   "file_extension": ".py",
   "mimetype": "text/x-python",
   "name": "python",
   "nbconvert_exporter": "python",
   "pygments_lexer": "ipython3",
   "version": "3.9.19"
  }
 },
 "nbformat": 4,
 "nbformat_minor": 2
}
