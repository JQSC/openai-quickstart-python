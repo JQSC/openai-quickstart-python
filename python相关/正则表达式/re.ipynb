{
 "cells": [
  {
   "cell_type": "markdown",
   "metadata": {},
   "source": [
    "# re\n",
    "正则表达式操作。\n",
    "在执行替换时，替换字串的类型也必须与所用的模式和搜索字串的类型一致。不能将 Unicode 字符串与字节串模式进行匹配，反之亦然。\n",
    "正则使用反斜杠\\,与 js 相反，js 使用正斜杠/。\n",
    "避免匹配项中存在\\这样冲突的转移字符，建议使用 r前缀包裹字符串，就不用考虑转义问题了。使用方式与 js 中类似。\n"
   ]
  },
  {
   "cell_type": "markdown",
   "metadata": {},
   "source": [
    "### re.compile(pattern, flags=0)\n",
    "将正则表达式的样式编译为一个 正则表达式对象 （正则对象），\n",
    "可以用于匹配，通过这个对象的方法 match(), search() 以及其他。\n",
    "\n",
    "如果需要多次使用这个正则表达式的话，使用 re.compile() 和保存这个正则对象以便复用，可以让程序更加高效。"
   ]
  },
  {
   "cell_type": "code",
   "execution_count": 9,
   "metadata": {},
   "outputs": [
    {
     "name": "stdout",
     "output_type": "stream",
     "text": [
      "('010', '12345')\n"
     ]
    }
   ],
   "source": [
    "import re\n",
    "\n",
    "pattern = r'^(\\d{3})-(\\d{3,8})$'\n",
    "string = '010-12345'\n",
    "\n",
    "# compile编译后会被缓存。\n",
    "re_telephone = re.compile(pattern)\n",
    "re_telephone.match(string).groups()\n",
    "\n",
    "# 等价使用match\n",
    "result = re.match(pattern, string).groups()\n",
    "print(result)"
   ]
  },
  {
   "cell_type": "markdown",
   "metadata": {},
   "source": [
    "### re.search(pattern, string, flags=0)\n",
    "扫描整个 string 查找正则表达式 pattern 产生匹配的第一个位置，并返回相应的 Match。"
   ]
  },
  {
   "cell_type": "markdown",
   "metadata": {},
   "source": [
    "### re.match(pattern, string, flags=0)\n",
    "如果 string 开头的零个或多个字符与正则表达式 pattern 匹配，则返回相应的 Match。"
   ]
  },
  {
   "cell_type": "markdown",
   "metadata": {},
   "source": [
    "### re.split(pattern, string, maxsplit=0, flags=0)\n",
    "用 pattern 分开 string 。 如果在 pattern 中捕获到括号，那么所有的组里的文字也会包含在列表里。如果 maxsplit 非零， 最多进行 maxsplit 次分隔， 剩下的字符全部返回到列表的最后一个元素。"
   ]
  },
  {
   "cell_type": "code",
   "execution_count": 10,
   "metadata": {},
   "outputs": [
    {
     "data": {
      "text/plain": [
       "['Words', 'words', 'words', '']"
      ]
     },
     "execution_count": 10,
     "metadata": {},
     "output_type": "execute_result"
    }
   ],
   "source": [
    "re.split(r'\\W+', 'Words, words, words.')"
   ]
  },
  {
   "cell_type": "markdown",
   "metadata": {},
   "source": [
    "### re.sub(pattern, repl, string, count=0, flags=0)"
   ]
  },
  {
   "cell_type": "code",
   "execution_count": null,
   "metadata": {},
   "outputs": [],
   "source": []
  }
 ],
 "metadata": {
  "kernelspec": {
   "display_name": ".venv",
   "language": "python",
   "name": "python3"
  },
  "language_info": {
   "codemirror_mode": {
    "name": "ipython",
    "version": 3
   },
   "file_extension": ".py",
   "mimetype": "text/x-python",
   "name": "python",
   "nbconvert_exporter": "python",
   "pygments_lexer": "ipython3",
   "version": "3.9.19"
  }
 },
 "nbformat": 4,
 "nbformat_minor": 2
}
